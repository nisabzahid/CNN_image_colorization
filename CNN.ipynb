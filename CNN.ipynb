{
  "nbformat": 4,
  "nbformat_minor": 0,
  "metadata": {
    "colab": {
      "name": "CNN.ipynb",
      "provenance": [],
      "collapsed_sections": []
    },
    "kernelspec": {
      "name": "python3",
      "display_name": "Python 3"
    },
    "accelerator": "GPU"
  },
  "cells": [
    {
      "cell_type": "code",
      "metadata": {
        "id": "acrAW6t9_Ck-",
        "colab_type": "code",
        "outputId": "915764c9-b96f-47a9-b686-518b02368c57",
        "colab": {
          "base_uri": "https://localhost:8080/",
          "height": 34
        }
      },
      "source": [
        "import keras\n",
        "from keras.applications.vgg16 import VGG16\n",
        "from keras.applications.vgg16 import preprocess_input\n",
        "from keras.preprocessing import image\n",
        "from keras.utils import plot_model\n",
        "from keras.engine import Layer\n",
        "from keras.layers import Conv2D, UpSampling2D, InputLayer, Conv2DTranspose, Input, Reshape, merge, concatenate\n",
        "from keras.layers import Activation, Dense, Dropout, Flatten\n",
        "from keras.layers.normalization import BatchNormalization\n",
        "from keras.callbacks import TensorBoard \n",
        "from keras.models import Sequential, Model\n",
        "from keras.layers.core import RepeatVector, Permute\n",
        "from keras.preprocessing.image import ImageDataGenerator, array_to_img, img_to_array, load_img\n",
        "from skimage.color import rgb2lab, lab2rgb, rgb2gray, gray2rgb\n",
        "from skimage.transform import resize\n",
        "from skimage.io import imsave\n",
        "import numpy as np\n",
        "import matplotlib.pyplot as plt\n",
        "import os\n",
        "import random\n",
        "import tensorflow as tf\n",
        "from google.colab import drive"
      ],
      "execution_count": 0,
      "outputs": [
        {
          "output_type": "stream",
          "text": [
            "Using TensorFlow backend.\n"
          ],
          "name": "stderr"
        }
      ]
    },
    {
      "cell_type": "code",
      "metadata": {
        "id": "f0ElEORIfDQ0",
        "colab_type": "code",
        "colab": {}
      },
      "source": [
        "!wget -cq http://press.liacs.nl/mirflickr/mirflickr25k.v2/mirflickr25k.zip"
      ],
      "execution_count": 0,
      "outputs": []
    },
    {
      "cell_type": "code",
      "metadata": {
        "id": "oVXkLxNLhDxj",
        "colab_type": "code",
        "colab": {}
      },
      "source": [
        "!unzip -qq mirflickr25k.zip"
      ],
      "execution_count": 0,
      "outputs": []
    },
    {
      "cell_type": "code",
      "metadata": {
        "id": "v-piDcvKke9W",
        "colab_type": "code",
        "colab": {}
      },
      "source": [
        "onlyfiles = next(os.walk('/content/mirflickr/'))[2]\n",
        "print(len(onlyfiles))\n",
        "\n",
        "list = os.listdir('/content/mirflickr/')\n",
        "number_files = len(list)\n",
        "print(number_files)"
      ],
      "execution_count": 0,
      "outputs": []
    },
    {
      "cell_type": "code",
      "metadata": {
        "id": "7AWvAE4hF-px",
        "colab_type": "code",
        "colab": {}
      },
      "source": [
        "import shutil\n",
        "shutil.rmtree('/content/mirflickr/meta')\n",
        "shutil.rmtree('/content/mirflickr/doc')"
      ],
      "execution_count": 0,
      "outputs": []
    },
    {
      "cell_type": "code",
      "metadata": {
        "id": "pJRw83FGg4Gu",
        "colab_type": "code",
        "colab": {}
      },
      "source": [
        "onlyfiles = next(os.walk('/content/mirflickr/'))[2]\n",
        "print(len(onlyfiles))\n",
        "\n",
        "list = os.listdir('/content/mirflickr/')\n",
        "number_files = len(list)\n",
        "print(number_files)"
      ],
      "execution_count": 0,
      "outputs": []
    },
    {
      "cell_type": "code",
      "metadata": {
        "id": "oA9AKeexuO3Y",
        "colab_type": "code",
        "colab": {}
      },
      "source": [
        "path= \"/content/mirflickr/\"\n",
        "i=0\n",
        "for file in os.listdir(path):\n",
        "    i+=1\n",
        "    if(i>5000):\n",
        "        os.remove(path+file)"
      ],
      "execution_count": 0,
      "outputs": []
    },
    {
      "cell_type": "code",
      "metadata": {
        "id": "H6laeEOPMl64",
        "colab_type": "code",
        "colab": {}
      },
      "source": [
        "\n",
        "from PIL import Image\n",
        "resize_method = Image.BICUBIC\n",
        "    #Image.NEAREST)  # use nearest neighbour\n",
        "    #Image.BILINEAR) # linear interpolation in a 2x2 environment\n",
        "    #Image.BICUBIC) # cubic spline interpolation in a 4x4 environment\n",
        "    #Image.ANTIALIAS) # best down-sizing filter\n",
        "\n",
        "\n",
        "max_height= 128\n",
        "max_width= 128\n",
        "extensions= ['JPG']\n",
        "\n",
        "path= '/content/mirflickr/'\n",
        "\n",
        "def adjusted_size(width,height):\n",
        "    return max_width, max_height\n",
        "\n",
        "\t\n",
        "if __name__ == \"__main__\":\n",
        "    for f in os.listdir(path):\n",
        "        if os.path.isfile(os.path.join(path,f)):\n",
        "            f_text, f_ext= os.path.splitext(f)\n",
        "            f_ext= f_ext[1:].upper()\n",
        "            if f_ext in extensions:\n",
        "                #print(f)\n",
        "                image = Image.open(os.path.join(path,f))\n",
        "                width, height= image.size\n",
        "                image = image.resize(adjusted_size(width, height))\n",
        "                image.save(os.path.join(path,f))"
      ],
      "execution_count": 0,
      "outputs": []
    },
    {
      "cell_type": "code",
      "metadata": {
        "id": "XVRnibUrlsT_",
        "colab_type": "code",
        "colab": {}
      },
      "source": [
        "!unzip -qq output.zip"
      ],
      "execution_count": 0,
      "outputs": []
    },
    {
      "cell_type": "code",
      "metadata": {
        "id": "w7p3aJ6KpOel",
        "colab_type": "code",
        "colab": {}
      },
      "source": [
        "import shutil\n",
        "#shutil.rmtree('/content/pred/')\n",
        "#shutil.rmtree('/content/output/')\n",
        "os.mkdir('pred/')"
      ],
      "execution_count": 0,
      "outputs": []
    },
    {
      "cell_type": "code",
      "metadata": {
        "id": "IVSLfvc0oQ41",
        "colab_type": "code",
        "outputId": "3f3e911d-15a2-4a19-b3ea-0234db67d383",
        "colab": {
          "base_uri": "https://localhost:8080/",
          "height": 34
        }
      },
      "source": [
        "X = []\n",
        "for filename in os.listdir('/content/mirflickr/'):\n",
        "    X.append(img_to_array(load_img('/content/mirflickr/'+filename)))\n",
        "X = np.array(X, dtype=float)\n",
        "Xtrain = 1.0/255*X\n",
        "print(X.size, Xtrain.size)\n"
      ],
      "execution_count": 0,
      "outputs": [
        {
          "output_type": "stream",
          "text": [
            "245760000 245760000\n"
          ],
          "name": "stdout"
        }
      ]
    },
    {
      "cell_type": "code",
      "metadata": {
        "id": "yxSvBxx5izW7",
        "colab_type": "code",
        "outputId": "09de5ab0-fa5f-47a4-b72f-efb42fac33f5",
        "colab": {
          "base_uri": "https://localhost:8080/",
          "height": 122
        }
      },
      "source": [
        "vgg = VGG16(weights='imagenet', include_top=True)\n",
        "vgg.graph = tf.get_default_graph()\n",
        "\n",
        "embed_input = Input(shape=(1000,), name='vggin')"
      ],
      "execution_count": 0,
      "outputs": [
        {
          "output_type": "stream",
          "text": [
            "WARNING:tensorflow:From /usr/local/lib/python3.6/dist-packages/tensorflow/python/framework/op_def_library.py:263: colocate_with (from tensorflow.python.framework.ops) is deprecated and will be removed in a future version.\n",
            "Instructions for updating:\n",
            "Colocations handled automatically by placer.\n",
            "Downloading data from https://github.com/fchollet/deep-learning-models/releases/download/v0.1/vgg16_weights_tf_dim_ordering_tf_kernels.h5\n",
            "553467904/553467096 [==============================] - 6s 0us/step\n"
          ],
          "name": "stdout"
        }
      ]
    },
    {
      "cell_type": "code",
      "metadata": {
        "id": "wGdNeQali1ym",
        "colab_type": "code",
        "colab": {}
      },
      "source": [
        "encoder_input = Input(shape=(128, 128, 1,), name='main_in')\n",
        "encoder_output = Conv2D(64, (3,3), activation='relu', padding='same', strides=2, name='e1')(encoder_input)\n",
        "encoder_output = Conv2D(128, (3,3), activation='relu', padding='same', name='e2')(encoder_output)\n",
        "encoder_output = Conv2D(128, (3,3), activation='relu', padding='same', strides=2, name='e3')(encoder_output)\n",
        "encoder_output = Conv2D(256, (3,3), activation='relu', padding='same', name='e4')(encoder_output)\n",
        "encoder_output = Conv2D(256, (3,3), activation='relu', padding='same', name='e5')(encoder_output)\n",
        "encoder_output = Conv2D(256, (3,3), activation='relu', padding='same', strides=2, name='e6')(encoder_output)\n",
        "encoder_output = Conv2D(512, (3,3), activation='relu', padding='same', name='e7')(encoder_output)\n",
        "encoder_output = Conv2D(512, (3,3), activation='relu', padding='same', name='e8')(encoder_output)\n",
        "encoder_output = Conv2D(512, (3,3), activation='relu', padding='same', name='e9')(encoder_output)\n",
        "encoder_output = Conv2D(256, (3,3), activation='relu', padding='same', name='e10')(encoder_output)\n",
        "\n",
        "#Fusion\n",
        "fusion_output = RepeatVector(16 * 16)(embed_input) \n",
        "fusion_output = Reshape(([16, 16, 1000]))(fusion_output)\n",
        "fusion_output = concatenate([encoder_output, fusion_output], axis=3) \n",
        "fusion_output = Conv2D(256, (1, 1), activation='relu', padding='same', name='fusionOut')(fusion_output) \n",
        "\n",
        "#Decoder\n",
        "decoder_output = Conv2D(128, (3,3), activation='relu', padding='same', name='de1')(fusion_output)\n",
        "decoder_output = Conv2D(128, (3,3), activation='relu', padding='same', name='de2')(decoder_output)\n",
        "decoder_output = UpSampling2D((2, 2))(decoder_output)\n",
        "decoder_output = Conv2D(64, (3,3), activation='relu', padding='same', name='de3')(decoder_output)\n",
        "decoder_output = UpSampling2D((2, 2))(decoder_output)\n",
        "decoder_output = Conv2D(32, (3,3), activation='relu', padding='same', name='de4')(decoder_output)\n",
        "decoder_output = Conv2D(16, (3,3), activation='relu', padding='same', name='de5')(decoder_output)\n",
        "decoder_output = Conv2D(2, (3, 3), activation='tanh', padding='same', name='de6')(decoder_output)\n",
        "decoder_output = UpSampling2D((2, 2))(decoder_output)\n",
        "\n",
        "model = Model(inputs=[encoder_input, embed_input], outputs=decoder_output)\n",
        "print(model.summary())\n",
        "plot_model(model, to_file='model.jpg')\n"
      ],
      "execution_count": 0,
      "outputs": []
    },
    {
      "cell_type": "code",
      "metadata": {
        "id": "t6oHO5ALi2Cq",
        "colab_type": "code",
        "outputId": "7ae1cb50-2554-41d7-d7fa-331677a32707",
        "colab": {
          "base_uri": "https://localhost:8080/",
          "height": 2395
        }
      },
      "source": [
        "\n",
        "def create_vgg_embedding(grayscaled_rgb):\n",
        "    grayscaled_rgb_resized = []\n",
        "    for i in grayscaled_rgb:\n",
        "        i = resize(i, (224, 224, 3), mode='constant')\n",
        "        grayscaled_rgb_resized.append(i)\n",
        "    grayscaled_rgb_resized = np.array(grayscaled_rgb_resized)\n",
        "    grayscaled_rgb_resized = preprocess_input(grayscaled_rgb_resized)\n",
        "    with vgg.graph.as_default():\n",
        "        embed = vgg.predict(grayscaled_rgb_resized)\n",
        "    return embed\n",
        "\n",
        "# Image transformer\n",
        "datagen = ImageDataGenerator(\n",
        "        shear_range=0.2,\n",
        "        zoom_range=0.2,\n",
        "        rotation_range=20,\n",
        "        horizontal_flip=True)\n",
        "\n",
        "#Generate training data\n",
        "batch_size = 16\n",
        "\n",
        "def image_a_b_gen(batch_size):\n",
        "    for batch in datagen.flow(Xtrain, batch_size=batch_size):\n",
        "        grayscaled_rgb = gray2rgb(rgb2gray(batch))\n",
        "        embed = create_vgg_embedding(grayscaled_rgb)\n",
        "        lab_batch = rgb2lab(batch)\n",
        "        X_batch = lab_batch[:,:,:,0]\n",
        "        X_batch = X_batch.reshape(X_batch.shape+(1,))\n",
        "        Y_batch = lab_batch[:,:,:,1:] / 128\n",
        "        yield ([X_batch, create_vgg_embedding(grayscaled_rgb)], Y_batch)\n",
        "\n",
        "\n",
        "#Train model      \n",
        "model.compile(optimizer='adam', loss='mse', metrics=['accuracy'])\n",
        "history = model.fit_generator(image_a_b_gen(batch_size), epochs=50, steps_per_epoch=1)\n",
        "\n",
        "print(history.history.keys())\n",
        "# summarize history for accuracy\n",
        "plt.plot(history.history['acc'])\n",
        "#plt.plot(history.history['val_acc'])\n",
        "plt.title('model accuracy')\n",
        "plt.ylabel('accuracy')\n",
        "plt.xlabel('epoch')\n",
        "plt.legend(['train', 'test'], loc='upper left')\n",
        "plt.show()\n",
        "# summarize history for loss\n",
        "plt.plot(history.history['loss'])\n",
        "#plt.plot(history.history['val_loss'])\n",
        "plt.title('model loss')\n",
        "plt.ylabel('loss')\n",
        "plt.xlabel('epoch')\n",
        "plt.legend(['train', 'test'], loc='upper left')\n",
        "plt.show()"
      ],
      "execution_count": 0,
      "outputs": [
        {
          "output_type": "stream",
          "text": [
            "WARNING:tensorflow:From /usr/local/lib/python3.6/dist-packages/tensorflow/python/ops/math_ops.py:3066: to_int32 (from tensorflow.python.ops.math_ops) is deprecated and will be removed in a future version.\n",
            "Instructions for updating:\n",
            "Use tf.cast instead.\n",
            "Epoch 1/50\n"
          ],
          "name": "stdout"
        },
        {
          "output_type": "stream",
          "text": [
            "/usr/local/lib/python3.6/dist-packages/skimage/transform/_warps.py:110: UserWarning: Anti-aliasing will be enabled by default in skimage 0.15 to avoid aliasing artifacts when down-sampling images.\n",
            "  warn(\"Anti-aliasing will be enabled by default in skimage 0.15 to \"\n"
          ],
          "name": "stderr"
        },
        {
          "output_type": "stream",
          "text": [
            "1/1 [==============================] - 10s 10s/step - loss: 0.0230 - acc: 0.5438\n",
            "Epoch 2/50\n",
            "1/1 [==============================] - 0s 75ms/step - loss: 0.8989 - acc: 0.3814\n",
            "Epoch 3/50\n",
            "1/1 [==============================] - 0s 134ms/step - loss: 0.0184 - acc: 0.6131\n",
            "Epoch 4/50\n",
            "1/1 [==============================] - 0s 68ms/step - loss: 0.0131 - acc: 0.6465\n",
            "Epoch 5/50\n",
            "1/1 [==============================] - 1s 594ms/step - loss: 0.0134 - acc: 0.4934\n",
            "Epoch 6/50\n",
            "1/1 [==============================] - 1s 644ms/step - loss: 0.0144 - acc: 0.6136\n",
            "Epoch 7/50\n",
            "1/1 [==============================] - 1s 633ms/step - loss: 0.0152 - acc: 0.6994\n",
            "Epoch 8/50\n",
            "1/1 [==============================] - 1s 634ms/step - loss: 0.1421 - acc: 0.5476\n",
            "Epoch 9/50\n",
            "1/1 [==============================] - 1s 632ms/step - loss: 0.0145 - acc: 0.7206\n",
            "Epoch 10/50\n",
            "1/1 [==============================] - 1s 626ms/step - loss: 0.0111 - acc: 0.6457\n",
            "Epoch 11/50\n",
            "1/1 [==============================] - 1s 642ms/step - loss: 0.0152 - acc: 0.6331\n",
            "Epoch 12/50\n",
            "1/1 [==============================] - 1s 627ms/step - loss: 0.0136 - acc: 0.6443\n",
            "Epoch 13/50\n",
            "1/1 [==============================] - 1s 633ms/step - loss: 0.0114 - acc: 0.6417\n",
            "Epoch 14/50\n",
            "1/1 [==============================] - 1s 640ms/step - loss: 0.0244 - acc: 0.6429\n",
            "Epoch 15/50\n",
            "1/1 [==============================] - 1s 630ms/step - loss: 0.0236 - acc: 0.6252\n",
            "Epoch 16/50\n",
            "1/1 [==============================] - 1s 640ms/step - loss: 0.0222 - acc: 0.5251\n",
            "Epoch 17/50\n",
            "1/1 [==============================] - 1s 636ms/step - loss: 0.0083 - acc: 0.5405\n",
            "Epoch 18/50\n",
            "1/1 [==============================] - 1s 627ms/step - loss: 0.0215 - acc: 0.4974\n",
            "Epoch 19/50\n",
            "1/1 [==============================] - 1s 638ms/step - loss: 0.0095 - acc: 0.5736\n",
            "Epoch 20/50\n",
            "1/1 [==============================] - 1s 637ms/step - loss: 0.0260 - acc: 0.7362\n",
            "Epoch 21/50\n",
            "1/1 [==============================] - 1s 624ms/step - loss: 0.0198 - acc: 0.6096\n",
            "Epoch 22/50\n",
            "1/1 [==============================] - 1s 572ms/step - loss: 0.0166 - acc: 0.6327\n",
            "Epoch 23/50\n",
            "1/1 [==============================] - 1s 564ms/step - loss: 0.0137 - acc: 0.6405\n",
            "Epoch 24/50\n",
            "1/1 [==============================] - 1s 568ms/step - loss: 0.0141 - acc: 0.6428\n",
            "Epoch 25/50\n",
            "1/1 [==============================] - 1s 572ms/step - loss: 0.0246 - acc: 0.6959\n",
            "Epoch 26/50\n",
            "1/1 [==============================] - 1s 559ms/step - loss: 0.0177 - acc: 0.5536\n",
            "Epoch 27/50\n",
            "1/1 [==============================] - 1s 568ms/step - loss: 0.0097 - acc: 0.5734\n",
            "Epoch 28/50\n",
            "1/1 [==============================] - 1s 565ms/step - loss: 0.0208 - acc: 0.6314\n",
            "Epoch 29/50\n",
            "1/1 [==============================] - 1s 569ms/step - loss: 0.0069 - acc: 0.7584\n",
            "Epoch 30/50\n",
            "1/1 [==============================] - 1s 573ms/step - loss: 0.0260 - acc: 0.6517\n",
            "Epoch 31/50\n",
            "1/1 [==============================] - 1s 581ms/step - loss: 0.0197 - acc: 0.7453\n",
            "Epoch 32/50\n",
            "1/1 [==============================] - 1s 569ms/step - loss: 0.0179 - acc: 0.5927\n",
            "Epoch 33/50\n",
            "1/1 [==============================] - 1s 596ms/step - loss: 0.0172 - acc: 0.6109\n",
            "Epoch 34/50\n",
            "1/1 [==============================] - 1s 565ms/step - loss: 0.0125 - acc: 0.6178\n",
            "Epoch 35/50\n",
            "1/1 [==============================] - 1s 570ms/step - loss: 0.0113 - acc: 0.7141\n",
            "Epoch 36/50\n",
            "1/1 [==============================] - 1s 587ms/step - loss: 0.0306 - acc: 0.7113\n",
            "Epoch 37/50\n",
            "1/1 [==============================] - 1s 578ms/step - loss: 0.0114 - acc: 0.6170\n",
            "Epoch 38/50\n",
            "1/1 [==============================] - 1s 581ms/step - loss: 0.0150 - acc: 0.5895\n",
            "Epoch 39/50\n",
            "1/1 [==============================] - 1s 568ms/step - loss: 0.0231 - acc: 0.6558\n",
            "Epoch 40/50\n",
            "1/1 [==============================] - 1s 563ms/step - loss: 0.0100 - acc: 0.5889\n",
            "Epoch 41/50\n",
            "1/1 [==============================] - 1s 556ms/step - loss: 0.0178 - acc: 0.5785\n",
            "Epoch 42/50\n",
            "1/1 [==============================] - 1s 559ms/step - loss: 0.0227 - acc: 0.6201\n",
            "Epoch 43/50\n",
            "1/1 [==============================] - 1s 571ms/step - loss: 0.0173 - acc: 0.5539\n",
            "Epoch 44/50\n",
            "1/1 [==============================] - 1s 573ms/step - loss: 0.0164 - acc: 0.5958\n",
            "Epoch 45/50\n",
            "1/1 [==============================] - 1s 588ms/step - loss: 0.0073 - acc: 0.5700\n",
            "Epoch 46/50\n",
            "1/1 [==============================] - 1s 574ms/step - loss: 0.0342 - acc: 0.6266\n",
            "Epoch 47/50\n",
            "1/1 [==============================] - 1s 572ms/step - loss: 0.0208 - acc: 0.5710\n",
            "Epoch 48/50\n",
            "1/1 [==============================] - 1s 566ms/step - loss: 0.0213 - acc: 0.6595\n",
            "Epoch 49/50\n",
            "1/1 [==============================] - 1s 607ms/step - loss: 0.0117 - acc: 0.6698\n",
            "Epoch 50/50\n",
            "1/1 [==============================] - 1s 610ms/step - loss: 0.0092 - acc: 0.5718\n",
            "dict_keys(['loss', 'acc'])\n"
          ],
          "name": "stdout"
        },
        {
          "output_type": "display_data",
          "data": {
            "image/png": "[encoded data removed]",
            "text/plain": [
              "<Figure size 432x288 with 1 Axes>"
            ]
          },
          "metadata": {
            "tags": []
          }
        },
        {
          "output_type": "display_data",
          "data": {
            "image/png": "[encoded data removed]",
            "text/plain": [
              "<Figure size 432x288 with 1 Axes>"
            ]
          },
          "metadata": {
            "tags": []
          }
        }
      ]
    },
    {
      "cell_type": "code",
      "metadata": {
        "id": "ZvR61i4gjLVE",
        "colab_type": "code",
        "outputId": "3b51f773-7108-4854-bb73-b9e7b8b25613",
        "colab": {
          "base_uri": "https://localhost:8080/",
          "height": 105
        }
      },
      "source": [
        "color_me = []\n",
        "for filename in os.listdir('/content/output/'):\n",
        "    color_me.append(img_to_array(load_img('/content/output/'+filename)))\n",
        "color_me = np.array(color_me, dtype=float)\n",
        "gray_me = gray2rgb(rgb2gray(1.0/255*color_me))\n",
        "color_me_embed = create_vgg_embedding(gray_me)\n",
        "color_me = rgb2lab(1.0/255*color_me)[:,:,:,0]\n",
        "color_me = color_me.reshape(color_me.shape+(1,))\n",
        "\n",
        "\n",
        "# Test model\n",
        "output = model.predict([color_me, color_me_embed])\n",
        "output = output * 128\n",
        "\n",
        "# Output colorizations\n",
        "for i in range(len(output)):\n",
        "    cur = np.zeros((128, 128, 3))\n",
        "    cur[:,:,0] = color_me[i][:,:,0]\n",
        "    cur[:,:,1:] = output[i]\n",
        "    imsave(\"/content/pred/img_\"+str(i)+\".png\", lab2rgb(cur))"
      ],
      "execution_count": 0,
      "outputs": [
        {
          "output_type": "stream",
          "text": [
            "/usr/local/lib/python3.6/dist-packages/skimage/transform/_warps.py:110: UserWarning: Anti-aliasing will be enabled by default in skimage 0.15 to avoid aliasing artifacts when down-sampling images.\n",
            "  warn(\"Anti-aliasing will be enabled by default in skimage 0.15 to \"\n",
            "/usr/local/lib/python3.6/dist-packages/skimage/util/dtype.py:141: UserWarning: Possible precision loss when converting from float64 to uint8\n",
            "  .format(dtypeobj_in, dtypeobj_out))\n"
          ],
          "name": "stderr"
        }
      ]
    },
    {
      "cell_type": "code",
      "metadata": {
        "id": "gzjYlvD6jdir",
        "colab_type": "code",
        "colab": {}
      },
      "source": [
        "!zip -r /content/pred.zip /content/pred/"
      ],
      "execution_count": 0,
      "outputs": []
    },
    {
      "cell_type": "code",
      "metadata": {
        "id": "7afpk0yhYYlo",
        "colab_type": "code",
        "colab": {}
      },
      "source": [
        "!/opt/bin/nvidia-smi"
      ],
      "execution_count": 0,
      "outputs": []
    }
  ]
}